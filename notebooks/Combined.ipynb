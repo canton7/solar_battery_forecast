{
 "cells": [
  {
   "cell_type": "code",
   "execution_count": null,
   "metadata": {},
   "outputs": [],
   "source": [
    "import numpy as np\n",
    "import pandas as pd\n",
    "import os\n",
    "import sys\n",
    "\n",
    "from statsmodels.tsa.api import STLForecast\n",
    "from statsmodels.tsa.arima.model import ARIMA\n",
    "from statsmodels.tsa.statespace.sarimax import SARIMAX\n",
    "from statsmodels.datasets import macrodata\n",
    "from matplotlib import pyplot\n",
    "from sklearn.metrics import mean_squared_error, mean_absolute_error\n",
    "from statsmodels.tsa.statespace.exponential_smoothing import ExponentialSmoothing\n",
    "import xgboost as xgb\n",
    "\n",
    "import warnings\n",
    "warnings.simplefilter(action='ignore', category=FutureWarning)\n",
    "\n",
    "pd.set_option('display.max_rows', None)\n",
    "\n",
    "df = pd.read_csv('entities-2023-09-02_17 33 41.csv', usecols=['start', 'mean'])\n",
    "df['start'] = pd.to_datetime(df['start'], format='%Y-%m-%d %H:%M:%S')\n",
    "df = df.set_index('start')\n",
    "df = df.asfreq(freq='H').resample('D').sum()\n",
    "df = df[['mean']].head(9*7*24)\n",
    "\n",
    "train_period = 7 * 6\n",
    "for x in range(0, len(df) - train_period):\n",
    "# for x in range(1):\n",
    "    train_start = x\n",
    "    train_end = x + train_period\n",
    "    print(f\"Training from {train_start} - {train_end - 1}: {df.iloc[train_start].name} - {df.iloc[train_end - 1].name}\")\n",
    "\n",
    "    model = STLForecast(\n",
    "        df.iloc[train_start:train_end][\"mean\"],\n",
    "        SARIMAX,\n",
    "        model_kwargs={\n",
    "            \"order\": (4, 3, 4),\n",
    "            \"enforce_invertibility\": False,\n",
    "            \"enforce_stationarity\": False,\n",
    "        },\n",
    "    )\n",
    "    results = model.fit(fit_kwargs={\"disp\": False, \"warn_convergence\": False})\n",
    "    print(results.period)\n",
    "    # results.model_result.plot_diagnostics()\n",
    "    model_prediction = results.get_prediction(\n",
    "        start=df.iloc[train_end].name,\n",
    "        end=df.iloc[train_end].name\n",
    "    )\n",
    "    predicted_mean: pd.DataFrame = model_prediction.predicted_mean.rename(\"predicted\").to_frame()\n",
    "    df = df.combine_first(predicted_mean)\n",
    "# print(df)\n",
    "\n"
   ]
  },
  {
   "cell_type": "code",
   "execution_count": null,
   "metadata": {},
   "outputs": [],
   "source": [
    "pyplot.figure()\n",
    "fig, ax = pyplot.subplots(figsize=(15, 5))\n",
    "df[train_period:]['mean'].plot(ax=ax)\n",
    "df[train_period:]['predicted'].plot(ax=ax)\n",
    "# (df[train_period-48:]['mean'] - df[train_period-48:]['predicted']).plot(ax=ax)\n",
    "# ax.fill_between(df.index, df['predicted_lower'], df['predicted_upper'], color='k', alpha=0.1);  \n",
    "pyplot.legend()\n",
    "pyplot.show()\n",
    "\n",
    "# daily_sums = df[train_period:].resample('D').sum()\n",
    "print(df[train_period:][['mean', 'predicted']])\n",
    "print(\"Predicted\")\n",
    "print(mean_absolute_error(df[train_period:]['mean'], df[train_period:]['predicted']))\n",
    "print(mean_squared_error(df[train_period:]['mean'], df[train_period:]['predicted']))"
   ]
  }
 ],
 "metadata": {
  "kernelspec": {
   "display_name": "Python 3",
   "language": "python",
   "name": "python3"
  },
  "language_info": {
   "codemirror_mode": {
    "name": "ipython",
    "version": 3
   },
   "file_extension": ".py",
   "mimetype": "text/x-python",
   "name": "python",
   "nbconvert_exporter": "python",
   "pygments_lexer": "ipython3",
   "version": "3.11.4"
  },
  "orig_nbformat": 4
 },
 "nbformat": 4,
 "nbformat_minor": 2
}
