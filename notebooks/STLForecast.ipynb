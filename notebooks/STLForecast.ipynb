{
 "cells": [
  {
   "cell_type": "code",
   "execution_count": null,
   "metadata": {},
   "outputs": [],
   "source": [
    "import numpy as np\n",
    "import pandas as pd\n",
    "import os\n",
    "import sys\n",
    "module_path = os.path.abspath(os.path.join('../custom_components/solar_battery_forecast/brains/'))\n",
    "if module_path not in sys.path:\n",
    "    sys.path.append(module_path)\n",
    "\n",
    "from statsmodels.tsa.api import STLForecast\n",
    "from statsmodels.tsa.arima.model import ARIMA\n",
    "from statsmodels.tsa.statespace.sarimax import SARIMAX\n",
    "from statsmodels.datasets import macrodata\n",
    "from matplotlib import pyplot\n",
    "from sklearn.metrics import mean_squared_error, mean_absolute_error\n",
    "from statsmodels.tsa.statespace.exponential_smoothing import ExponentialSmoothing\n",
    "\n",
    "from load_forecaster import LoadForecaster\n",
    "pd.set_option('display.max_rows', None)\n",
    "\n",
    "df = pd.read_csv('entities-2023-09-06_10 17 37.csv', usecols=['start', 'mean'])\n",
    "# df = pd.read_csv('entities-2023-09-02_17 33 41.csv', usecols=['start', 'mean'])\n",
    "df['start'] = pd.to_datetime(df['start'], format='%Y-%m-%d %H:%M:%S')\n",
    "df = df.set_index('start')\n",
    "df = df.asfreq(freq='H')\n",
    "df = df[['mean']].tail(9*7*24)\n",
    "\n",
    "train_period = 24 * 7 * 6\n",
    "for x in range(0, len(df) - train_period, 24):\n",
    "    train_start = x\n",
    "    train_end = x + train_period\n",
    "    print(f\"Training from {train_start} - {train_end - 1}: {df.iloc[train_start].name} - {df.iloc[train_end - 1].name}\")\n",
    "    f = LoadForecaster()\n",
    "    prediction = f.predict(df.iloc[train_start:train_end].copy())\n",
    "    df = df.combine_first(prediction)\n"
   ]
  },
  {
   "cell_type": "code",
   "execution_count": null,
   "metadata": {},
   "outputs": [],
   "source": [
    "pyplot.figure()\n",
    "fig, ax = pyplot.subplots(figsize=(15, 5))\n",
    "df[train_period-48:]['mean'].plot(ax=ax)\n",
    "df[train_period-48:]['predicted'].plot(ax=ax)\n",
    "ax.fill_between(df.index, df['predicted_lower'], df['predicted_upper'], color='k', alpha=0.1);  \n",
    "pyplot.legend()\n",
    "pyplot.show()\n",
    "\n",
    "daily_sums = df[train_period:].resample('D').sum()\n",
    "print(daily_sums)\n",
    "print(mean_squared_error(daily_sums['mean'], daily_sums['predicted']))\n",
    "print(mean_absolute_error(daily_sums['mean'], daily_sums['predicted']))"
   ]
  }
 ],
 "metadata": {
  "kernelspec": {
   "display_name": "LoadPowerForecast-U5DQjj_Q",
   "language": "python",
   "name": "python3"
  },
  "language_info": {
   "codemirror_mode": {
    "name": "ipython",
    "version": 3
   },
   "file_extension": ".py",
   "mimetype": "text/x-python",
   "name": "python",
   "nbconvert_exporter": "python",
   "pygments_lexer": "ipython3",
   "version": "3.10.11"
  },
  "orig_nbformat": 4
 },
 "nbformat": 4,
 "nbformat_minor": 2
}
