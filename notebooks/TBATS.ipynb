{
 "cells": [
  {
   "cell_type": "code",
   "execution_count": null,
   "metadata": {},
   "outputs": [],
   "source": [
    "import pandas as pd\n",
    "from tbats import TBATS, BATS\n",
    "import numpy as np\n",
    "\n",
    "# df = pd.read_csv('entities-2023-09-02_17 33 41.csv', usecols=['start', 'mean'])\n",
    "df = pd.read_csv('entities-2023-09-06_10 17 37.csv', usecols=['start', 'mean'])\n",
    "df['start'] = pd.to_datetime(df['start'], format='%Y-%m-%d %H:%M:%S')\n",
    "df = df.set_index('start')\n",
    "df = df.asfreq(freq='H')\n",
    "df = df.tail(5*7*24)\n",
    "\n",
    "# train_period = 24 * 7 * 9\n",
    "train_period = 24*5\n",
    "# # for x in range(7*3):\n",
    "# for x in range(1):\n",
    "#     train_start = x\n",
    "#     train_end = x + train_period\n",
    "#     print(f\"Training from {train_start} - {train_end - 1}: {df.iloc[train_start].name} - {df.iloc[train_end - 1].name}\")\n",
    "\n",
    "#     estimator = TBATS(use_box_cox=False, use_trend=False, use_damped_trend=False, seasonal_periods=[24])\n",
    "#     fitted_model = estimator.fit(df[train_start:train_end]['mean'])\n",
    "\n"
   ]
  },
  {
   "cell_type": "code",
   "execution_count": null,
   "metadata": {},
   "outputs": [],
   "source": [
    "# print(fitted_model.summary())\n",
    "print(type(fitted_model))\n",
    "\n",
    "pd.set_option('display.max_rows', None)\n",
    "\n",
    "estimator = TBATS(seasonal_periods=[24],show_warnings=False)\n",
    "\n",
    "for x in range(0, len(df) - train_period, 24):\n",
    "# for x in range(0, 7*24*3, 24):\n",
    "# for x in range(1):\n",
    "    train_start = x\n",
    "    train_end = x + train_period\n",
    "    predict_start = df.iloc[train_end].name\n",
    "\n",
    "    print(f\"Training from {df.iloc[train_start].name} to {df.iloc[train_end - 1].name}. Predicting from {predict_start} to {predict_start + pd.Timedelta(hours=23)}\")\n",
    "\n",
    "    fitted_model = estimator.fit(df[train_start:train_end]['mean'])\n",
    "    # print(fitted_model.summary())\n",
    "\n",
    "    y_forecasted, confidence_info = fitted_model.forecast(steps=24, confidence_level=0.5)\n",
    "    # print(confidence_info )\n",
    "    forecasted_df = pd.DataFrame(confidence_info, index=pd.date_range(predict_start, predict_start + pd.Timedelta(hours=23), freq='H')) \\\n",
    "        .rename(columns={'mean': 'predicted', 'lower_bound': 'predicted_lower', 'upper_bound': 'predicted_upper'}) \\\n",
    "        .drop(columns=['calculated_for_level'])\n",
    "    # print(forecasted_df)\n",
    "    # print(df[predict_start:])\n",
    "    df = df.combine_first(forecasted_df)\n",
    "    \n",
    "    # fitted_model = fitted_model.fit(df[:predict_start + pd.Timedelta(hours=23)]['mean'])"
   ]
  },
  {
   "cell_type": "code",
   "execution_count": null,
   "metadata": {},
   "outputs": [],
   "source": [
    "from sklearn.metrics import mean_squared_error, mean_absolute_error\n",
    "from matplotlib import pyplot\n",
    "\n",
    "pyplot.figure()\n",
    "fig, ax = pyplot.subplots(figsize=(15, 5))\n",
    "df[train_period-48:]['mean'].plot(ax=ax)\n",
    "df[train_period-48:]['predicted'].plot(ax=ax)\n",
    "# (df[train_period-48:]['mean'] - df[train_period-48:]['predicted']).plot(ax=ax)\n",
    "ax.fill_between(df.index, df['predicted_lower'], df['predicted_upper'], color='k', alpha=0.1);  \n",
    "pyplot.legend()\n",
    "pyplot.show()\n",
    "\n",
    "daily_sums = df[train_period:].resample('D').sum()\n",
    "daily_sums = daily_sums[9:]\n",
    "\n",
    "pyplot.figure()\n",
    "fig, ax = pyplot.subplots(figsize=(15, 5))\n",
    "daily_sums['mean'].plot(ax=ax)\n",
    "daily_sums['predicted'].plot(ax=ax)\n",
    "pyplot.legend()\n",
    "pyplot.show()\n",
    "\n",
    "\n",
    "print(mean_absolute_error(df[train_period:]['mean'], df[train_period:]['predicted']))\n",
    "print(daily_sums)\n",
    "print(mean_absolute_error(daily_sums['mean'], daily_sums['predicted']))\n",
    "print(mean_squared_error(daily_sums['mean'], daily_sums['predicted']))"
   ]
  }
 ],
 "metadata": {
  "kernelspec": {
   "display_name": "notebooks-3ari1EE3",
   "language": "python",
   "name": "python3"
  },
  "language_info": {
   "codemirror_mode": {
    "name": "ipython",
    "version": 3
   },
   "file_extension": ".py",
   "mimetype": "text/x-python",
   "name": "python",
   "nbconvert_exporter": "python",
   "pygments_lexer": "ipython3",
   "version": "3.10.12"
  },
  "orig_nbformat": 4
 },
 "nbformat": 4,
 "nbformat_minor": 2
}
