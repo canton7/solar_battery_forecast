{
 "cells": [
  {
   "cell_type": "code",
   "execution_count": null,
   "metadata": {},
   "outputs": [],
   "source": [
    "import pandas as pd\n",
    "from sktime.transformations.series.outlier_detection import HampelFilter\n",
    "\n",
    "pd.set_option('display.max_rows', None)\n",
    "\n",
    "# df = pd.read_csv('entities-2023-09-02_17 33 41.csv', usecols=['start', 'mean'])\n",
    "df = pd.read_csv('entities-2023-09-06_10 17 37.csv', usecols=['start', 'mean'])\n",
    "df['start'] = pd.to_datetime(df['start'], format='%Y-%m-%d %H:%M:%S')\n",
    "df = df.set_index('start')\n",
    "df = df.asfreq(freq='H')\n",
    "df = df.tail(9*7*24)\n",
    "\n",
    "df['hour'] = df.index.hour\n",
    "df['weekday'] = df.index.weekday >= 5\n",
    "\n",
    "train_period = 24 * 7 * 2\n",
    "for x in range(0, len(df) - train_period, 24):\n",
    "    train_start = x\n",
    "    train_end = x + train_period\n",
    "    train_start_date = df.iloc[train_start].name\n",
    "    train_end_date = df.iloc[train_end].name\n",
    "    predict_start = df.iloc[train_end].name\n",
    "\n",
    "    print(f\"Training from {train_start} - {train_end - 1}: {df.iloc[train_start].name} - {df.iloc[train_end - 1].name}\")\n",
    "    training_df = df.loc[df['weekday'] == (predict_start.weekday() >= 5)]\n",
    "    # print(training_df[train_start_date:train_end_date].groupby('hour').tail(5))\n",
    "    pdf = training_df[train_start_date:train_end_date].groupby('hour').apply(lambda x: x.tail(2).mean())\n",
    "    prediction = pd.DataFrame(pdf['mean'].tolist(), columns=['predicted'], index=pd.date_range(predict_start, predict_start + pd.Timedelta(hours=23), freq='H'))\n",
    "    # print(prediction)\n",
    "    df = df.combine_first(prediction)\n"
   ]
  },
  {
   "cell_type": "code",
   "execution_count": null,
   "metadata": {},
   "outputs": [],
   "source": [
    "from sklearn.metrics import mean_squared_error, mean_absolute_error\n",
    "from matplotlib import pyplot\n",
    "\n",
    "pyplot.figure()\n",
    "fig, ax = pyplot.subplots(figsize=(15, 5))\n",
    "df[train_period-48:]['mean'].plot(ax=ax)\n",
    "df[train_period-48:]['predicted'].plot(ax=ax)\n",
    "# (df[train_period-48:]['mean'] - df[train_period-48:]['predicted']).plot(ax=ax)\n",
    "# ax.fill_between(df.index, df['predicted_lower'], df['predicted_upper'], color='k', alpha=0.1);  \n",
    "pyplot.legend()\n",
    "pyplot.show()\n",
    "\n",
    "daily_sums = df[train_period:].resample('D').sum()\n",
    "print(mean_absolute_error(df[train_period:]['mean'], df[train_period:]['predicted']))\n",
    "print(daily_sums)\n",
    "print(mean_squared_error(daily_sums['mean'], daily_sums['predicted']))\n",
    "print(mean_absolute_error(daily_sums['mean'], daily_sums['predicted']))"
   ]
  },
  {
   "cell_type": "code",
   "execution_count": null,
   "metadata": {},
   "outputs": [],
   "source": [
    "from matplotlib import pyplot\n",
    "\n",
    "transformer = HampelFilter(window_length=48, n_sigma=2)\n",
    "y_hat = transformer.fit_transform(df['mean'])\n",
    "df['hampel'] = y_hat\n",
    "\n",
    "pyplot.figure()\n",
    "fig, ax = pyplot.subplots(figsize=(15, 5))\n",
    "df[:7*24*3]['mean'].plot(ax=ax)\n",
    "df[:7*24*3]['hampel'].plot(ax=ax)\n",
    "# (df[train_period-48:]['mean'] - df[train_period-48:]['predicted']).plot(ax=ax)\n",
    "# ax.fill_between(df.index, df['predicted_lower'], df['predicted_upper'], color='k', alpha=0.1);  \n",
    "pyplot.legend()\n",
    "pyplot.show()"
   ]
  }
 ],
 "metadata": {
  "kernelspec": {
   "display_name": "notebooks-3ari1EE3",
   "language": "python",
   "name": "python3"
  },
  "language_info": {
   "codemirror_mode": {
    "name": "ipython",
    "version": 3
   },
   "file_extension": ".py",
   "mimetype": "text/x-python",
   "name": "python",
   "nbconvert_exporter": "python",
   "pygments_lexer": "ipython3",
   "version": "3.11.4"
  },
  "orig_nbformat": 4
 },
 "nbformat": 4,
 "nbformat_minor": 2
}
