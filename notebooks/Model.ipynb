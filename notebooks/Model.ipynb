{
 "cells": [
  {
   "cell_type": "code",
   "execution_count": null,
   "metadata": {},
   "outputs": [],
   "source": [
    "import os\n",
    "import random\n",
    "import sys\n",
    "module_path = os.path.abspath(os.path.join('../custom_components'))\n",
    "if module_path not in sys.path:\n",
    "    sys.path.append(module_path)\n",
    "\n",
    "from solar_battery_forecast.battery_model import BatteryModel\n",
    "from solar_battery_forecast.battery_model import TimeSegment\n",
    "\n",
    "seed = random.randrange(2**32)\n",
    "print(f\"Seed: {seed}\")\n",
    "random.seed(seed)\n",
    "\n",
    "# df = pd.read_csv('load_power_hourly.csv', usecols=['start', 'mean'], parse_dates=['start'], index_col='start') \n",
    "# consumption = [x for x in df[21:(21+24)]['mean']]\n",
    "consumption = [0.2, 0.4, 0.2, 0.2, 0.2, 0.31, 0.25, 0.41, 0.32, 0.32, 0.29, 0.4, 0.57, 0.53, 0.82, 0.32, 0.32, 0.22, 0.11, 0.45, 0.2, 0.1, 0.2, 0.2]\n",
    "# generation = [0, 0, 0, 0, 0, 0, 0.01, 0.07, 0.15, 0.48, 1.00, 1.02, 0.81, 0.56, 0.35, 0.76, 0.27, 0.16, 0.4, 0.06, 0, 0, 0, 0]\n",
    "generation = [0, 0, 0, 0, 0, 0, 0.05, 0.15, 0.72, 2.04, 2.33, 2.27, 2.35, 2.1, 1.94, 1.26, 0.75, 0.26, 0.11, 0.06, 0, 0, 0, 0]\n",
    "# generation[0:9] = [0] * 11\n",
    "# generation[16:] = [0] * 8\n",
    "import_tariff = [30.72] * 2 + [18.43] * 3 + [30.72] * 11 + [43.01] * 3 + [0] + [30.72] * 4\n",
    "feed_in_tariff = [19.72] * 2 + [7.43] * 3 + [19.72] * 11 + [32.01] * 3 + [19.72] * 5\n",
    "\n",
    "# consumption = [x for x in consumption for _ in (0, 1)]\n",
    "# generation = [x for x in generation for _ in (0, 1)]\n",
    "# feed_in_tariff = [15] * 24\n",
    "# import_tariff = [22.1, 20.5, 19.3, 17.9, 18.7, 18.0, 17.8, 17.6, \n",
    "# 18.3, 17.1, 20.9, 22.1, 22.3, 24.3, 24.4, 29.0, \n",
    "# 24.7, 26.8, 23.6, 21.9, 20.1, 18.0, 18.1, 17.2, \n",
    "# 19.6, 16.5, 18.7, 15.9, 18.3, 16.0, 20.3, 20.3, \n",
    "# 33.5, 34.8, 34.5, 38.7, 38.6, 38.7, 26.1, 24.7, \n",
    "# 26.4, 25.8, 24.7, 20.9, 17.9, 8.8, 8.8, 8.8]\n",
    "\n",
    "segments = [TimeSegment(generation=g, consumption=c, feed_in_tariff=f, import_tariff=i) for _ in range(2) for g, c, f, i in zip(generation, consumption, feed_in_tariff, import_tariff) ]\n",
    "# segments = segments + segments\n",
    "model = BatteryModel()\n",
    "model.debug = True\n",
    "model.shotgun_hillclimb(segments, 2)\n",
    "\n",
    "# actions = [Action.SELF_USE] * 2 + [Action.BACKUP] * 3 + [Action.SELF_USE] * 11 + [Action.FEED_IN] * 3 + [Action.SELF_USE] * 5\n",
    "\n",
    "# result = run(segments, actions, 2.1, True)\n",
    "# print(result)"
   ]
  }
 ],
 "metadata": {
  "kernelspec": {
   "display_name": "LoadPowerForecast-xBBx0yCS",
   "language": "python",
   "name": "python3"
  },
  "language_info": {
   "codemirror_mode": {
    "name": "ipython",
    "version": 3
   },
   "file_extension": ".py",
   "mimetype": "text/x-python",
   "name": "python",
   "nbconvert_exporter": "python",
   "pygments_lexer": "ipython3",
   "version": "3.10.12"
  },
  "orig_nbformat": 4
 },
 "nbformat": 4,
 "nbformat_minor": 2
}
