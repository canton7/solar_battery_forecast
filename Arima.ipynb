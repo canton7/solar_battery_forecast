{
 "cells": [
  {
   "cell_type": "code",
   "execution_count": null,
   "metadata": {},
   "outputs": [],
   "source": [
    "import pandas as pd\n",
    "from matplotlib import pyplot\n",
    "from pandas.plotting import autocorrelation_plot\n",
    "from statsmodels.tsa.stattools import adfuller\n",
    "from statsmodels.tsa.arima.model import ARIMA\n",
    "import statsmodels\n",
    "import statsmodels.api as sm\n",
    "from statsmodels.graphics.tsaplots import plot_acf\n",
    "import numpy as np\n",
    "from statsmodels.graphics.tsaplots import plot_predict\n",
    "from sklearn.metrics import mean_squared_error, mean_absolute_error"
   ]
  },
  {
   "cell_type": "code",
   "execution_count": null,
   "metadata": {},
   "outputs": [],
   "source": [
    "df = pd.read_csv('entities-2023-09-02_17 33 41.csv', usecols=['start', 'mean'])\n",
    "df['start'] = pd.to_datetime(df['start'], format='%Y-%m-%d %H:%M:%S')\n",
    "df['dow'] = df['start'].dt.dayofweek\n",
    "df = df.set_index('start')\n",
    "df = df.asfreq(freq='H')\n",
    "df = df[['mean', 'dow']].tail(7*7*24)"
   ]
  },
  {
   "cell_type": "code",
   "execution_count": null,
   "metadata": {},
   "outputs": [],
   "source": [
    "\n",
    "df[\"pred\"] = np.nan\n",
    "df[\"pred_l\"] = np.nan\n",
    "df[\"pred_u\"] = np.nan\n",
    "start = 4*7*24\n",
    "# train_period = 3*7*24\n",
    "model = sm.tsa.statespace.SARIMAX(df['mean'][:start], exog=df['dow'][:start], order=(1, 1, 1), seasonal_order=(1,1,1,24))\n",
    "results = model.fit()\n",
    "for x in range(7*3):\n",
    "    slice_start = start + 24 * x\n",
    "    slice_end = slice_start + 24\n",
    "    pred = results.get_prediction(slice_start, slice_end - 1, dynamic=True, exog=df['dow'][slice_start:slice_end])\n",
    "    \n",
    "    df.update(pred.predicted_mean.rename(\"pred\"))\n",
    "    conf_int = pred.conf_int(alpha=0.7)\n",
    "    df.update(conf_int.rename(columns={\"upper mean\": \"pred_u\", \"lower mean\": \"pred_l\"}))\n",
    "    results = results.append(df['mean'][slice_start:slice_end], exog=df['dow'][slice_start:slice_end], refit=True)\n"
   ]
  },
  {
   "cell_type": "code",
   "execution_count": null,
   "metadata": {},
   "outputs": [],
   "source": [
    "sum_error = 0\n",
    "# for x in range(7*4):\n",
    "#     slice_start = start + 24 * x\n",
    "#     slice_end = slice_start + 24\n",
    "#     print(f'{x} {df.iloc[slice_start].name}: {df[\"mean\"][slice_start:slice_end].sum()} {df[f\"pred\"][slice_start:slice_end].sum()} {df[\"pred_l\"][slice_start:slice_end].sum()} {df[\"pred_u\"][slice_start:slice_end].sum()}')\n",
    "#     sum_error += abs(df[\"mean\"][slice_start:slice_end].sum() - df[f\"pred\"][slice_start:slice_end].sum())\n",
    "# print(sum_error)\n",
    "\n",
    "daily_sums = df[start:].resample('D').sum()\n",
    "print(daily_sums[['mean', 'pred']])\n",
    "print(mean_squared_error(daily_sums['mean'], daily_sums['pred']))\n",
    "print(mean_absolute_error(daily_sums['mean'], daily_sums['pred']))\n",
    "print(mean_absolute_error(df[start:]['mean'], df[start:]['pred']))\n",
    "\n",
    "pyplot.figure()\n",
    "fig, ax = pyplot.subplots(figsize=(15, 5))\n",
    "df['mean'][start:].plot(ax=ax)\n",
    "df['pred'][start:].plot(ax=ax)\n",
    "(df['mean'][start:] - df['pred'][start:]).rolling(12).mean().plot(ax=ax)\n",
    "\n",
    "ax.fill_between(df.index, df['pred_l'], df['pred_u'], color='k', alpha=0.1);    \n",
    "pyplot.legend()\n",
    "pyplot.show()"
   ]
  },
  {
   "cell_type": "code",
   "execution_count": null,
   "metadata": {},
   "outputs": [],
   "source": [
    "from skforecast.model_selection_sarimax import grid_search_sarimax\n",
    "from skforecast.ForecasterSarimax import ForecasterSarimax\n",
    "from pmdarima import ARIMA\n",
    "\n",
    "forecaster = ForecasterSarimax(\n",
    "                 regressor=ARIMA(order=(1, 1, 1), seasonal_order=(1, 1, 1, 24), maxiter=200),\n",
    "             )\n",
    "\n",
    "orders = []\n",
    "seasonal_orders = []\n",
    "for p in [0, 1, 2, 12]:\n",
    "    for d in [0, 1, 2]:\n",
    "        for q in [0, 1, 2]:\n",
    "            orders.append((p, d, q))\n",
    "            seasonal_orders.append((p, d, q, 24))\n",
    "\n",
    "param_grid = {\n",
    "    'order': orders,\n",
    "    'seasonal_order': seasonal_orders,\n",
    "    # 'trend': [None]\n",
    "}\n",
    "\n",
    "results_grid = grid_search_sarimax(\n",
    "                   forecaster         = forecaster,\n",
    "                   y                  = df['mean'],\n",
    "                   exog               = df['dow'],\n",
    "                   param_grid         = param_grid,\n",
    "                   steps              = 24,\n",
    "                   refit              = True,\n",
    "                   metric             = 'mean_absolute_error',\n",
    "                   initial_train_size = 24*7*4,\n",
    "                   fixed_train_size   = False,\n",
    "                   return_best        = True,\n",
    "                   n_jobs             = 2,\n",
    "                   verbose            = False,\n",
    "                   show_progress      = True\n",
    "               )\n",
    "\n",
    "results_grid.head(5)"
   ]
  }
 ],
 "metadata": {
  "kernelspec": {
   "display_name": "LoadPowerForecast-xBBx0yCS",
   "language": "python",
   "name": "python3"
  },
  "language_info": {
   "codemirror_mode": {
    "name": "ipython",
    "version": 3
   },
   "file_extension": ".py",
   "mimetype": "text/x-python",
   "name": "python",
   "nbconvert_exporter": "python",
   "pygments_lexer": "ipython3",
   "version": "3.11.5"
  },
  "orig_nbformat": 4
 },
 "nbformat": 4,
 "nbformat_minor": 2
}
