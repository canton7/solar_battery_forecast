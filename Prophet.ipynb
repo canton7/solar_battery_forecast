{
 "cells": [
  {
   "cell_type": "code",
   "execution_count": null,
   "metadata": {},
   "outputs": [],
   "source": [
    "import pandas as pd\n",
    "from matplotlib import pyplot\n",
    "from pandas.plotting import autocorrelation_plot\n",
    "import numpy as np\n",
    "from prophet import Prophet"
   ]
  },
  {
   "cell_type": "code",
   "execution_count": null,
   "metadata": {},
   "outputs": [],
   "source": [
    "df = pd.read_csv('entities-2023-09-02_17 33 41.csv', usecols=['start', 'mean'])\n",
    "df['start'] = pd.to_datetime(df['start'], format='%Y-%m-%d %H:%M:%S')\n",
    "# df = df.set_index('start')\n",
    "df = df.tail(8*7*24)\n",
    "df = df.reset_index(drop=True)\n",
    "df = df.rename(columns={\"start\": \"ds\", \"mean\": \"y\"})\n",
    "\n",
    "train_period = 24*7*4 # Train on prior X weeks\n",
    "sum_error = 0\n",
    "forecasts = []\n",
    "for i in range(4*7):\n",
    "    m = Prophet()\n",
    "    period_end = len(df) - (7*4 - i) * 24\n",
    "    period_start = period_end - train_period\n",
    "    # print(f\"{period_start} - {period_end} / {len(df)}\")\n",
    "    train_data = df[period_start:period_end]\n",
    "    m.fit(train_data)\n",
    "    # future = m.make_future_dataframe(periods=24, freq='H')\n",
    "    pred_df = m.make_future_dataframe(periods=24, freq='H', include_history=False)\n",
    "    fcst = m.predict(pred_df)\n",
    "    print(f\"{df.loc[period_end]['ds']} {df[period_end:period_end+24]['y'].sum()} {fcst['yhat'].sum()}\")\n",
    "    sum_error += abs(df[period_end:period_end+24]['y'].sum() - fcst['yhat'].sum())\n",
    "    forecasts.append(fcst)\n",
    "    # print(f\"{df[period_start]['ds']} {df[period_start:period_start + 24]['y'].sum()} {fcst['yhat'].sum()}\")\n",
    "    # fig = m.plot(fcst)\n",
    "print(sum_error)\n",
    "forecast = pd.concat(forecasts)\n",
    "\n",
    "pyplot.figure()\n",
    "fig, ax = pyplot.subplots(figsize=(15, 5))\n",
    "start = 4*7*24\n",
    "df[start:].plot(x='ds', y='y', ax=ax)\n",
    "forecast.plot(x='ds', y='yhat', ax=ax)\n",
    "ax.fill_between(forecast['ds'].dt.to_pydatetime(), forecast['yhat_lower'], forecast['yhat_upper'], color='k', alpha=0.1);    \n",
    "pyplot.legend()\n",
    "pyplot.show()\n",
    "# (df['mean'][start:] - df['pred'][start:]).rolling(12).mean().plot(ax=ax)"
   ]
  }
 ],
 "metadata": {
  "kernelspec": {
   "display_name": "LoadPowerForecast-xBBx0yCS",
   "language": "python",
   "name": "python3"
  },
  "language_info": {
   "codemirror_mode": {
    "name": "ipython",
    "version": 3
   },
   "file_extension": ".py",
   "mimetype": "text/x-python",
   "name": "python",
   "nbconvert_exporter": "python",
   "pygments_lexer": "ipython3",
   "version": "3.10.0"
  },
  "orig_nbformat": 4
 },
 "nbformat": 4,
 "nbformat_minor": 2
}
